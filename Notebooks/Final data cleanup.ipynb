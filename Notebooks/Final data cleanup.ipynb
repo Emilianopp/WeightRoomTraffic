{
 "cells": [
  {
   "cell_type": "markdown",
   "metadata": {},
   "source": [
    "# Appendix D"
   ]
  },
  {
   "cell_type": "markdown",
   "metadata": {},
   "source": [
    "### D.1 Importing Libraries"
   ]
  },
  {
   "cell_type": "code",
   "execution_count": 91,
   "metadata": {},
   "outputs": [],
   "source": [
    "import pandas as pd\n",
    "import numpy as np\n",
    "from datetime import *\n",
    "import pickle as pkl"
   ]
  },
  {
   "cell_type": "markdown",
   "metadata": {},
   "source": [
    "### D.2  Importing Data"
   ]
  },
  {
   "cell_type": "code",
   "execution_count": 92,
   "metadata": {},
   "outputs": [],
   "source": [
    "#reading in data from other files \n",
    "tweets =pd.read_csv('clean_tweeets.csv').drop(['Unnamed: 0','Unnamed: 5','Unnamed: 6','Unnamed: 7'\n",
    "                                               ,'Unnamed: 8','Unnamed: 9'],axis =1)\n",
    "weather = pd.read_csv('weather_data')"
   ]
  },
  {
   "cell_type": "code",
   "execution_count": 93,
   "metadata": {},
   "outputs": [
    {
     "data": {
      "text/html": [
       "<div>\n",
       "<style scoped>\n",
       "    .dataframe tbody tr th:only-of-type {\n",
       "        vertical-align: middle;\n",
       "    }\n",
       "\n",
       "    .dataframe tbody tr th {\n",
       "        vertical-align: top;\n",
       "    }\n",
       "\n",
       "    .dataframe thead th {\n",
       "        text-align: right;\n",
       "    }\n",
       "</style>\n",
       "<table border=\"1\" class=\"dataframe\">\n",
       "  <thead>\n",
       "    <tr style=\"text-align: right;\">\n",
       "      <th></th>\n",
       "      <th>date</th>\n",
       "      <th>tweets</th>\n",
       "      <th>CM</th>\n",
       "      <th>WR</th>\n",
       "    </tr>\n",
       "  </thead>\n",
       "  <tbody>\n",
       "    <tr>\n",
       "      <td>0</td>\n",
       "      <td>3/15/2020 20:37</td>\n",
       "      <td>WR 47 CM 12</td>\n",
       "      <td>12</td>\n",
       "      <td>47</td>\n",
       "    </tr>\n",
       "    <tr>\n",
       "      <td>1</td>\n",
       "      <td>3/15/2020 17:55</td>\n",
       "      <td>WR 52 CM 22 🎾</td>\n",
       "      <td>22</td>\n",
       "      <td>52</td>\n",
       "    </tr>\n",
       "    <tr>\n",
       "      <td>2</td>\n",
       "      <td>3/15/2020 16:34</td>\n",
       "      <td>WR 48 CM 24 😀</td>\n",
       "      <td>24</td>\n",
       "      <td>48</td>\n",
       "    </tr>\n",
       "    <tr>\n",
       "      <td>3</td>\n",
       "      <td>3/15/2020 15:55</td>\n",
       "      <td>WR 23 CM 13</td>\n",
       "      <td>13</td>\n",
       "      <td>23</td>\n",
       "    </tr>\n",
       "    <tr>\n",
       "      <td>4</td>\n",
       "      <td>3/15/2020 15:23</td>\n",
       "      <td>WR 19\\nCM 6 🏃🏾‍♀️😊👍🏼🌬😷</td>\n",
       "      <td>6</td>\n",
       "      <td>19</td>\n",
       "    </tr>\n",
       "  </tbody>\n",
       "</table>\n",
       "</div>"
      ],
      "text/plain": [
       "              date                  tweets  CM  WR\n",
       "0  3/15/2020 20:37             WR 47 CM 12  12  47\n",
       "1  3/15/2020 17:55           WR 52 CM 22 🎾  22  52\n",
       "2  3/15/2020 16:34           WR 48 CM 24 😀  24  48\n",
       "3  3/15/2020 15:55             WR 23 CM 13  13  23\n",
       "4  3/15/2020 15:23  WR 19\\nCM 6 🏃🏾‍♀️😊👍🏼🌬😷   6  19"
      ]
     },
     "execution_count": 93,
     "metadata": {},
     "output_type": "execute_result"
    }
   ],
   "source": [
    "tweets.head()"
   ]
  },
  {
   "cell_type": "markdown",
   "metadata": {},
   "source": [
    "### D.3 Data Cleansing"
   ]
  },
  {
   "cell_type": "code",
   "execution_count": 94,
   "metadata": {},
   "outputs": [],
   "source": [
    "#dropping rows with na values\n",
    "weather_nona = weather[weather['Time'].notna()]\n"
   ]
  },
  {
   "cell_type": "code",
   "execution_count": 95,
   "metadata": {},
   "outputs": [],
   "source": [
    "#Function rount_time \n",
    "#inputs \n",
    "#dt datetime object\n",
    "#direction what way to rount_to as string up or down\n",
    "#rount_to amount to rount_to to\n",
    "#outputs rounded datetime object\n",
    "def rount_to_time(dt, direction, rount_to):\n",
    "    new_minute = (dt.minute // rount_to + (1 if direction == 'up' else 0)) * rount_to\n",
    "    return dt + timedelta(minutes=new_minute - dt.minute)"
   ]
  },
  {
   "cell_type": "code",
   "execution_count": 96,
   "metadata": {},
   "outputs": [],
   "source": [
    "#Formating the data into datetime format\n",
    "time_format = []\n",
    "for day in weather.Time.dropna():\n",
    "    time_format.append( datetime.strptime(day, '%Y-%m-%d %H:%M:%S') ) \n",
    "    \n",
    "    "
   ]
  },
  {
   "cell_type": "code",
   "execution_count": 97,
   "metadata": {},
   "outputs": [
    {
     "name": "stderr",
     "output_type": "stream",
     "text": [
      "C:\\Users\\Emiliano\\Anaconda3\\lib\\site-packages\\ipykernel_launcher.py:7: SettingWithCopyWarning: \n",
      "A value is trying to be set on a copy of a slice from a DataFrame\n",
      "\n",
      "See the caveats in the documentation: http://pandas.pydata.org/pandas-docs/stable/user_guide/indexing.html#returning-a-view-versus-a-copy\n",
      "  import sys\n"
     ]
    }
   ],
   "source": [
    "#formating time data into datetime format\n",
    "#I also adjusted the data for a timezone error and rounded up each timestamp to enarest 30 min\n",
    "time = tweets.date\n",
    "for i in range(len(time)):\n",
    "    time[i] = round_time(datetime.strptime(time[i], '%m/%d/%Y %H:%M') -  timedelta(hours = 4),\n",
    "                        'down',\n",
    "                        30)\n",
    "tweets.date  = time"
   ]
  },
  {
   "cell_type": "markdown",
   "metadata": {},
   "source": [
    "### D.4 Data Exportation"
   ]
  },
  {
   "cell_type": "code",
   "execution_count": 98,
   "metadata": {
    "scrolled": true
   },
   "outputs": [],
   "source": [
    "#Merging the dataframes into one for easy access to all data\n",
    "#Filling the missing values in the data as the weather repor came in hourly increments while the tweets come in half hour basis\n",
    "# I will be using hourly weather reports and just fill the weather report with the neaerest data \n",
    "tweets.date = pd.to_datetime(tweets.date)\n",
    "weather_nona.Time = pd.to_datetime(weather_nona.Time)\n",
    "Data_missing = tweets.merge(weather_nona,how = 'left' , left_on = 'date',right_on = 'Time')\n",
    "Data_missing.to_csv(\"Raw_Formated_Data.csv\")"
   ]
  }
 ],
 "metadata": {
  "kernelspec": {
   "display_name": "Python 3",
   "language": "python",
   "name": "python3"
  },
  "language_info": {
   "codemirror_mode": {
    "name": "ipython",
    "version": 3
   },
   "file_extension": ".py",
   "mimetype": "text/x-python",
   "name": "python",
   "nbconvert_exporter": "python",
   "pygments_lexer": "ipython3",
   "version": "3.7.4"
  }
 },
 "nbformat": 4,
 "nbformat_minor": 4
}
