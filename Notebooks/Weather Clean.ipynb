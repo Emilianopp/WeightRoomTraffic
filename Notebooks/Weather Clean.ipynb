{
 "cells": [
  {
   "cell_type": "markdown",
   "metadata": {},
   "source": [
    "# Appendix C"
   ]
  },
  {
   "cell_type": "markdown",
   "metadata": {},
   "source": [
    "### C.1 Importing Libraries"
   ]
  },
  {
   "cell_type": "code",
   "execution_count": 2,
   "metadata": {},
   "outputs": [],
   "source": [
    "import pickle \n",
    "import pandas as pd \n",
    "import numpy as np\n",
    "from datetime  import *\n",
    "import matplotlib.pyplot as plt\n",
    "from collections import ChainMap"
   ]
  },
  {
   "cell_type": "markdown",
   "metadata": {},
   "source": [
    "### C.2 Data Merging"
   ]
  },
  {
   "cell_type": "code",
   "execution_count": 43,
   "metadata": {},
   "outputs": [],
   "source": [
    "#Merge \n",
    "#input two dictionaries\n",
    "#outputs merged dictionaries\n",
    "def Merge(dict1, dict2): \n",
    "    res = {**dict1, **dict2} \n",
    "    return res "
   ]
  },
  {
   "cell_type": "code",
   "execution_count": 54,
   "metadata": {},
   "outputs": [],
   "source": [
    "#loading weather data  to clean it up\n",
    "Data_0 = pickle.load(open('Weather_data_2020.pkl',\"rb\") )\n",
    "Data_1 = pickle.load(open('Weather2020',\"rb\") )\n",
    "Data_2 = pickle.load(open('Weather2020_jan21',\"rb\") )\n",
    "Data =  Merge(Data_1,Data_2)\n",
    "Data = Merge(Data_0,Data_2)\n"
   ]
  },
  {
   "cell_type": "markdown",
   "metadata": {},
   "source": [
    "### C.3 Data Formating"
   ]
  },
  {
   "cell_type": "code",
   "execution_count": null,
   "metadata": {},
   "outputs": [],
   "source": [
    "##function timestamp_maker \n",
    "#Input Data dictionary \n",
    "#Outputs dataframe with datetime object as timesampts\n",
    "#Iterates through dictionary first taking the time keys to making them a column as timestamps \n",
    "#After making time column it iterates through other columns and appends them onto a pandas dataframe \n",
    "\n",
    "def timestamp_maker(Data):\n",
    "    copy_data = Data.copy()\n",
    "    keys = list(Data.keys())\n",
    "    for j in range(len(Data)):\n",
    "        day_data = Data.get(keys[j])\n",
    "        time = day_data['Time']\n",
    "        for i in range(len(time)):\n",
    "            day = time[i] + \" \" + keys[j]\n",
    "            copy_data[keys[j]]['Time'][i] = datetime.strptime(day,'%I:%M %p %Y-%m-%d')\n",
    "            rows = []\n",
    "    for i in range(len(copy_data) ):\n",
    "        d = copy_data[keys[i]]\n",
    "        rows.append( pd.DataFrame(dict([ (k,pd.Series(v)) for k,v in d.items() ])) )\n",
    "\n",
    "    Weather = pd.concat(rows).set_index('Time')\n",
    "    \n",
    "        return Weather \n",
    "Weather = timestamp_maker(Data)"
   ]
  },
  {
   "cell_type": "markdown",
   "metadata": {},
   "source": [
    "### C.4 Data Exportation"
   ]
  },
  {
   "cell_type": "code",
   "execution_count": 60,
   "metadata": {},
   "outputs": [],
   "source": [
    "#saving weather dataframe as a csv file\n",
    "Weather.to_csv('weather_data.csv')"
   ]
  }
 ],
 "metadata": {
  "kernelspec": {
   "display_name": "Python 3",
   "language": "python",
   "name": "python3"
  },
  "language_info": {
   "codemirror_mode": {
    "name": "ipython",
    "version": 3
   },
   "file_extension": ".py",
   "mimetype": "text/x-python",
   "name": "python",
   "nbconvert_exporter": "python",
   "pygments_lexer": "ipython3",
   "version": "3.7.4"
  }
 },
 "nbformat": 4,
 "nbformat_minor": 4
}
