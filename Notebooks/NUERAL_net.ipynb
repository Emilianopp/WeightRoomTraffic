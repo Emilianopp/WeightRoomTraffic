{
 "cells": [
  {
   "cell_type": "markdown",
   "metadata": {},
   "source": [
    "# Appendix F"
   ]
  },
  {
   "cell_type": "markdown",
   "metadata": {},
   "source": [
    "### Apendix F.1 Importing Libraries"
   ]
  },
  {
   "cell_type": "code",
   "execution_count": 1,
   "metadata": {},
   "outputs": [
    {
     "name": "stderr",
     "output_type": "stream",
     "text": [
      "Using TensorFlow backend.\n"
     ]
    }
   ],
   "source": [
    "# Importing the libraries\n",
    "import numpy as np\n",
    "import matplotlib.pyplot as plt\n",
    "plt.style.use('fivethirtyeight')\n",
    "import pandas as pd\n",
    "from sklearn.preprocessing import MinMaxScaler\n",
    "from keras import Sequential\n",
    "from keras.layers import Dense, LSTM, Dropout, GRU, Bidirectional\n",
    "from keras.optimizers import SGD\n",
    "import math\n",
    "from sklearn.metrics import mean_squared_error\n",
    "from sklearn.preprocessing import MinMaxScaler\n",
    "from sklearn.preprocessing import LabelEncoder\n",
    "from sklearn.metrics import mean_squared_error\n",
    "from tqdm import tqdm\n",
    "import time"
   ]
  },
  {
   "cell_type": "markdown",
   "metadata": {},
   "source": [
    "### F.2 Loading Dataset"
   ]
  },
  {
   "cell_type": "code",
   "execution_count": 2,
   "metadata": {},
   "outputs": [],
   "source": [
    "#reading in datasets and selecting subset of columns that will be used for modelling\n",
    "\n",
    "train = pd.read_csv('train_ts.csv').drop(['Unnamed: 0'],axis = 1)\n",
    "test = pd.read_csv('test_ts.csv').drop(['Unnamed: 0'],axis = 1)\n",
    "validation = pd.read_csv('validation_ts.csv').drop(['Unnamed: 0'],axis = 1)\n",
    "train_subset = train[['date','Total','WindSpeed','Precip','Temperature','holidays','closed','closedxholidays']]\n",
    "test_subset = test[['date','Total','WindSpeed','Precip','Temperature','holidays','closed','closedxholidays']]\n",
    "validation_subset = validation[['date','Total','WindSpeed','Precip','Temperature','holidays','closed','closedxholidays']]"
   ]
  },
  {
   "cell_type": "code",
   "execution_count": 3,
   "metadata": {},
   "outputs": [
    {
     "data": {
      "text/html": [
       "<div>\n",
       "<style scoped>\n",
       "    .dataframe tbody tr th:only-of-type {\n",
       "        vertical-align: middle;\n",
       "    }\n",
       "\n",
       "    .dataframe tbody tr th {\n",
       "        vertical-align: top;\n",
       "    }\n",
       "\n",
       "    .dataframe thead th {\n",
       "        text-align: right;\n",
       "    }\n",
       "</style>\n",
       "<table border=\"1\" class=\"dataframe\">\n",
       "  <thead>\n",
       "    <tr style=\"text-align: right;\">\n",
       "      <th></th>\n",
       "      <th>date</th>\n",
       "      <th>Total</th>\n",
       "      <th>WindSpeed</th>\n",
       "      <th>Precip</th>\n",
       "      <th>Temperature</th>\n",
       "      <th>holidays</th>\n",
       "      <th>closed</th>\n",
       "      <th>closedxholidays</th>\n",
       "    </tr>\n",
       "  </thead>\n",
       "  <tbody>\n",
       "    <tr>\n",
       "      <td>0</td>\n",
       "      <td>2019-09-29 12:00:00</td>\n",
       "      <td>76.0</td>\n",
       "      <td>13.0</td>\n",
       "      <td>0.0</td>\n",
       "      <td>14.0</td>\n",
       "      <td>0</td>\n",
       "      <td>0</td>\n",
       "      <td>0</td>\n",
       "    </tr>\n",
       "    <tr>\n",
       "      <td>1</td>\n",
       "      <td>2019-09-29 13:00:00</td>\n",
       "      <td>78.0</td>\n",
       "      <td>15.0</td>\n",
       "      <td>0.0</td>\n",
       "      <td>15.0</td>\n",
       "      <td>0</td>\n",
       "      <td>0</td>\n",
       "      <td>0</td>\n",
       "    </tr>\n",
       "    <tr>\n",
       "      <td>2</td>\n",
       "      <td>2019-09-29 14:00:00</td>\n",
       "      <td>66.0</td>\n",
       "      <td>18.0</td>\n",
       "      <td>0.0</td>\n",
       "      <td>15.0</td>\n",
       "      <td>0</td>\n",
       "      <td>0</td>\n",
       "      <td>0</td>\n",
       "    </tr>\n",
       "    <tr>\n",
       "      <td>3</td>\n",
       "      <td>2019-09-29 15:00:00</td>\n",
       "      <td>67.0</td>\n",
       "      <td>16.0</td>\n",
       "      <td>0.0</td>\n",
       "      <td>16.0</td>\n",
       "      <td>0</td>\n",
       "      <td>0</td>\n",
       "      <td>0</td>\n",
       "    </tr>\n",
       "    <tr>\n",
       "      <td>4</td>\n",
       "      <td>2019-09-29 16:00:00</td>\n",
       "      <td>84.0</td>\n",
       "      <td>16.0</td>\n",
       "      <td>0.0</td>\n",
       "      <td>16.0</td>\n",
       "      <td>0</td>\n",
       "      <td>0</td>\n",
       "      <td>0</td>\n",
       "    </tr>\n",
       "  </tbody>\n",
       "</table>\n",
       "</div>"
      ],
      "text/plain": [
       "                  date  Total  WindSpeed  Precip  Temperature  holidays  \\\n",
       "0  2019-09-29 12:00:00   76.0       13.0     0.0         14.0         0   \n",
       "1  2019-09-29 13:00:00   78.0       15.0     0.0         15.0         0   \n",
       "2  2019-09-29 14:00:00   66.0       18.0     0.0         15.0         0   \n",
       "3  2019-09-29 15:00:00   67.0       16.0     0.0         16.0         0   \n",
       "4  2019-09-29 16:00:00   84.0       16.0     0.0         16.0         0   \n",
       "\n",
       "   closed  closedxholidays  \n",
       "0       0                0  \n",
       "1       0                0  \n",
       "2       0                0  \n",
       "3       0                0  \n",
       "4       0                0  "
      ]
     },
     "execution_count": 3,
     "metadata": {},
     "output_type": "execute_result"
    }
   ],
   "source": [
    "train_subset.head()"
   ]
  },
  {
   "cell_type": "code",
   "execution_count": 4,
   "metadata": {},
   "outputs": [],
   "source": [
    "#setting index as date for each dataset and then obtaining their values as a numpy array \n",
    "test_values = test_subset.copy().set_index('date')\n",
    "test_values = test_values.values\n",
    "train_values = train_subset.copy().set_index('date')\n",
    "train_values = train_values.values\n",
    "validation_values = validation_subset.copy().set_index('date')\n",
    "validation_values = validation_values.values"
   ]
  },
  {
   "cell_type": "markdown",
   "metadata": {},
   "source": [
    "### F.2 Declaring Data Prepration Functions"
   ]
  },
  {
   "cell_type": "code",
   "execution_count": 5,
   "metadata": {},
   "outputs": [],
   "source": [
    "#Extracted from https://machinelearningmastery.com/convert-time-series-supervised-learning-problem-python/\n",
    "#Few tweaks to make it work for my data \n",
    "def series_to_supervised(data, n_in=1, n_out=1, dropnan=True):\n",
    "\n",
    "    n_vars = 1 if type(data) is list else data.shape[1]\n",
    "    df = pd.DataFrame(data)\n",
    "    cols, names = list(), list()\n",
    "    # input sequence (t-n, ... t-1)\n",
    "    for i in range(n_in, 0, -1):\n",
    "        cols.append(df.shift(i))\n",
    "        names += [('var%d(t-%d)' % (j+1, i)) for j in range(n_vars)]\n",
    "    # forecast sequence (t, t+1, ... t+n)\n",
    "    for i in range(0, n_out):\n",
    "        cols.append(df.shift(-i))\n",
    "        if i == 0:\n",
    "            names += [('var%d(t)' % (j+1)) for j in range(n_vars)]\n",
    "        else:\n",
    "            names += [('var%d(t+%d)' % (j+1, i)) for j in range(n_vars)]\n",
    "    # put it all together\n",
    "    agg = pd.concat(cols, axis=1)\n",
    "    agg.columns = names\n",
    "    # drop rows with NaN values\n",
    "    if dropnan:\n",
    "        agg.dropna(inplace=True)\n",
    "    return agg\n"
   ]
  },
  {
   "cell_type": "code",
   "execution_count": 33,
   "metadata": {},
   "outputs": [],
   "source": [
    "#Input steps specifying the amount of lag variables to be outputed\n",
    "#train_values corresponding set of values\n",
    "#validation_values corresponding set of values\n",
    "#test_values  corresponding set of values\n",
    "#outputs dataframe with corresponding lag variables\n",
    "def timestep_maker(steps,train_values,validation_values,test_values):\n",
    "    #Using min max scaler to scale data between 0 and 1 as RNNs use a hyperbolic tangent activation function which outputs values between 0 and 1 \n",
    "    scaler  = MinMaxScaler()\n",
    "    scaled  = scaler.fit_transform(train_values)\n",
    "    scaled_validation = scaler.fit_transform(validation_values)\n",
    "    scaled_test  = scaler.fit_transform(test_values)\n",
    "\n",
    "    #Using series to supervised function to make the datasets \n",
    "    vals = series_to_supervised(scaled, steps, 1)\n",
    "    vals_test  = series_to_supervised(scaled_test, steps, 1)\n",
    "    vals_val  = series_to_supervised(scaled_validation, steps, 1)\n",
    "    #Returns training test and validation sets \n",
    "    return vals, vals_test, vals_val,scaler\n"
   ]
  },
  {
   "cell_type": "code",
   "execution_count": 7,
   "metadata": {},
   "outputs": [],
   "source": [
    "#Set maker function \n",
    "#Correctly formats each data set into correct shape to input into nueral network\n",
    "#inputs\n",
    "#step dataframe with timestep_maker format training set values\n",
    "#step dataframe with timestep_maker format test test set values\n",
    "#step_val dataframe with timestep_maker format validation set values\n",
    "#columns intiger number of columns\n",
    "#steps intiger number of steps to take\n",
    "\n",
    "def set_maker(step,step_test,step_val,columns,steps): \n",
    "    #Gets var1 which is the target value\n",
    "    test_y  = step_test[['var1(t)']].values\n",
    "    train_y  = step[['var1(t)']].values\n",
    "    val_y  = step_val[['var1(t)']].values\n",
    "    \n",
    "    #drops val1 and reshapes the dataframes for input into a numpy tensor \n",
    "    test_X  = step_test.iloc[:,:columns * steps + 1]\n",
    "    test_X  = test_X.copy().drop(['var1(t)'],axis =1 ).values\n",
    "    test_X  = test_X.reshape((test_X.shape[0], 1, test_X.shape[1]))\n",
    "    \n",
    "    val_X  = step_val.iloc[:,:columns * steps + 1]\n",
    "    val_X  = val_X.copy().drop(['var1(t)'],axis =1 ).values\n",
    "    val_X  = val_X.reshape((val_X.shape[0], 1, val_X.shape[1]))\n",
    "    \n",
    "    train_X  = step.iloc[:,:columns * steps + 1]\n",
    "    train_X  = train_X.copy().drop(['var1(t)'],axis =1 ).values\n",
    "    train_X = train_X.reshape((train_X.shape[0], 1, train_X.shape[1]))\n",
    "    return train_X,test_X,train_y,test_y,val_y,val_X"
   ]
  },
  {
   "cell_type": "markdown",
   "metadata": {},
   "source": [
    "### F.2 Declaring Modelling Functions"
   ]
  },
  {
   "cell_type": "code",
   "execution_count": 8,
   "metadata": {},
   "outputs": [],
   "source": [
    "#functions single\n",
    "#single layer neural network uses an LSTM or long short term emmory cell as the recurrent part initially takes 50 nuerons\n",
    "#Dense layer for a single output \n",
    "#Ueses adam optimizer and mean absolute error as loss function \n",
    "#inputs \n",
    "#train_x predictor values for training set\n",
    "#test_X predictor values for test set\n",
    "#train_y response values for training set\n",
    "#test_y response values for test set\n",
    "#val_y response values for validation set\n",
    "#val_x predictor values for validation set\n",
    "#batch number of training batches \n",
    "def grid_search(iterations,train_values,test_values,validation_values,model_maker,cols = 7, batch = 32 ):\n",
    "    \n",
    "    error_list = []\n",
    "    for i in tqdm(range(1,iterations) ):\n",
    "        step, step_test, step_val,scaler = timestep_maker(i,train_values,test_values,validation_values)\n",
    "  \n",
    "        train_X,test_X,train_y,test_y,val_y,val_X = set_maker(step,step_test,step_val,cols,i)\n",
    "    \n",
    "        fit = model_maker(train_X,test_X,train_y,test_y,val_y,val_X , batch)\n",
    "        rmse = evaluation(fit,val_X,val_y,scaler )\n",
    "        error_list.append(rmse)\n",
    "        \n",
    "    return error_list"
   ]
  },
  {
   "cell_type": "code",
   "execution_count": 32,
   "metadata": {},
   "outputs": [],
   "source": [
    "#Helper function \n",
    "#Extracted from https://machinelearningmastery.com/convert-time-series-supervised-learning-problem-python/\n",
    "def evaluation(net,test_X,test_y,scaler):\n",
    "    # make a prediction\n",
    "    yhat = net.predict(test_X)\n",
    "    test_X = test_X.reshape((test_X.shape[0], test_X.shape[2]))\n",
    "    # invert scaling for forecast\n",
    "\n",
    "    # invert scaling for actual\n",
    "    inv_yhat = np.concatenate((yhat, test_X[:, -6:]), axis=1)\n",
    "    inv_yhat = scaler.inverse_transform(inv_yhat)\n",
    "    inv_yhat = inv_yhat[:,0]\n",
    "\n",
    "    test_y = test_y.reshape((len(test_y), 1))\n",
    "    inv_y = np.concatenate((test_y, test_X[:, -6:]), axis=1)\n",
    "    inv_y = scaler.inverse_transform(inv_y)\n",
    "    inv_y = inv_y[:,0]\n",
    "    # calculate RMSE\n",
    "    rmse = np.sqrt(mean_squared_error(inv_y, inv_yhat))\n",
    "    return rmse"
   ]
  },
  {
   "cell_type": "code",
   "execution_count": 34,
   "metadata": {},
   "outputs": [],
   "source": [
    "#model_spitter \n",
    "#grid searches for best amount of steps with input model outputs list rmse of each model in the grid\n",
    "#inputs \n",
    "#train_values corresponding dataset\n",
    "#test_values corresponding dataset\n",
    "#validation values corresponding dataset\n",
    "#model_maker specifies the type of model to use\n",
    "#cols number of columns by default 7\n",
    "#outputs trained model with specific iterations\n",
    "#outputs model predictions and real values\n",
    "\n",
    "def model_spitter(train_values,test_values,validation_values,model_maker,steps = 2, cols = 7 ):\n",
    "    \n",
    "   \n",
    "    step, step_test, step_val,scaler = timestep_maker(steps,train_values,test_values,validation_values)\n",
    "\n",
    "    train_X,test_X,train_y,test_y,val_y,val_X = set_maker(step,step_test,step_val,cols,steps)\n",
    "\n",
    "    fit = model_maker(train_X,test_X,train_y,test_y,val_y,val_X , 74)\n",
    "    \n",
    "    yhat = fit.predict(test_X)\n",
    "    test_X = test_X.reshape((test_X.shape[0], test_X.shape[2]))\n",
    "    # invert scaling for forecast\n",
    "\n",
    "    # invert scaling for actual\n",
    "    inv_yhat = np.concatenate((yhat, test_X[:, -6:]), axis=1)\n",
    "    inv_yhat = scaler.inverse_transform(inv_yhat)\n",
    "    inv_yhat = inv_yhat[:,0]\n",
    "\n",
    "    test_y = test_y.reshape((len(test_y), 1))\n",
    "    inv_y = np.concatenate((test_y, test_X[:, -6:]), axis=1)\n",
    "    inv_y = scaler.inverse_transform(inv_y)\n",
    "    inv_y = inv_y[:,0]\n",
    "    \n",
    "        \n",
    "    return fit,inv_yhat,inv_y"
   ]
  },
  {
   "cell_type": "code",
   "execution_count": 10,
   "metadata": {},
   "outputs": [],
   "source": [
    "#functions single\n",
    "#single layer neural network uses an LSTM or long short term emmory cell as the recurrent part initially takes 50 nuerons\n",
    "#Dense layer for a single output \n",
    "#Ueses adam optimizer and mean absolute error as loss function \n",
    "#inputs \n",
    "#train_x predictor values for training set\n",
    "#test_X predictor values for test set\n",
    "#train_y response values for training set\n",
    "#test_y response values for test set\n",
    "#val_y response values for validation set\n",
    "#val_x predictor values for validation set\n",
    "#batch number of training batches \n",
    "def single(train_X,test_X,train_y,test_y,val_y,val_X , batch = 32):\n",
    "    single_layer = Sequential()\n",
    "    single_layer.add(LSTM(50,input_shape = (train_X.shape[1],train_X.shape[2])))\n",
    "    single_layer.add(Dense(1))\n",
    "    single_layer.compile(loss = 'mae',optimizer  = 'adam')\n",
    "    hist = single_layer.fit(train_X,train_y,epochs = 50, batch_size =batch, verbose =0,shuffle = False,validation_data=(val_X, val_y))\n",
    "\n",
    "\n",
    "    \n",
    "    return single_layer\n"
   ]
  },
  {
   "cell_type": "code",
   "execution_count": 12,
   "metadata": {},
   "outputs": [],
   "source": [
    "#functions dropout_layer\n",
    "#single layer neural network uses an LSTM or long short term emmory cell as the recurrent part initially takes 50 nuerons \n",
    "#Dense layer for a single output \n",
    "#introduces a dropout layer for regularization\n",
    "#Ueses adam optimizer and mean absolute error as loss function \n",
    "#inputs \n",
    "#train_x predictor values for training set\n",
    "#test_X predictor values for test set\n",
    "#train_y response values for training set\n",
    "#test_y response values for test set\n",
    "#val_y response values for validation set\n",
    "#val_x predictor values for validation set\n",
    "#batch number of training batches \n",
    "def dropout_layer(train_X,test_X,train_y,test_y,val_y,val_X,batch):\n",
    "    model = Sequential()\n",
    "    model.add(LSTM(50,input_shape = (train_X.shape[1],train_X.shape[2])))\n",
    "    model.add(Dropout(0.2))\n",
    "    model.add(Dense(1))\n",
    "    model.compile(loss = 'mae',optimizer  = 'adam')\n",
    "    hist = model.fit(train_X,train_y,epochs = 50, batch_size = 74, verbose =0,shuffle = False,validation_data=(val_X, val_y))\n",
    "\n",
    "\n",
    "    \n",
    "    return model"
   ]
  },
  {
   "cell_type": "code",
   "execution_count": 13,
   "metadata": {},
   "outputs": [],
   "source": [
    "#functions multi_layer\n",
    "#single layer neural network uses an LSTM or long short term emmory cell as the recurrent part initially takes 50 nuerons\n",
    "#Adds a second LSTM layer with 100 input cells \n",
    "#both LSTM cells have dropout layers for regularization\n",
    "#Ueses adam optimizer and mean absolute error as loss function \n",
    "#inputs \n",
    "#train_x predictor values for training set\n",
    "#test_X predictor values for test set\n",
    "#train_y response values for training set\n",
    "#test_y response values for test set\n",
    "#val_y response values for validation set\n",
    "#val_x predictor values for validation set\n",
    "#batch number of training batches \n",
    "def multi_layer(train_X,test_X,train_y,test_y,val_y,val_X,batch):\n",
    "    model = Sequential()\n",
    "    model.add(LSTM(50,input_shape = (train_X.shape[1],train_X.shape[2]),return_sequences=True))\n",
    "    model.add(Dropout(0.2))\n",
    "    \n",
    "    model.add(LSTM(100,input_shape = (train_X.shape[1],train_X.shape[2])))\n",
    "    model.add(Dropout(0.2))\n",
    "    \n",
    "    model.add(Dense(1))\n",
    "    model.compile(loss = 'mae',optimizer  = 'adam')\n",
    "    hist = model.fit(train_X,train_y,epochs = 50, batch_size =32, verbose =0,shuffle = False,validation_data=(val_X, val_y))\n",
    "\n",
    "\n",
    "    \n",
    "    return model"
   ]
  },
  {
   "cell_type": "markdown",
   "metadata": {},
   "source": [
    "### F.4 Training Models"
   ]
  },
  {
   "cell_type": "code",
   "execution_count": null,
   "metadata": {},
   "outputs": [],
   "source": [
    "#Models will be saved into csv files due to how time consuming grid search is\n",
    "grid = grid_search(24,train_values,test_values,validation_values,single)\n",
    "np.savetxt('grid.csv', grid, delimiter=',', fmt='%d')"
   ]
  },
  {
   "cell_type": "code",
   "execution_count": null,
   "metadata": {},
   "outputs": [],
   "source": [
    "grid_batch = grid_search(24,train_values,test_values,validation_values,single, 74 )\n",
    "np.savetxt('grid_batch.csv', grid_batch, delimiter=',', fmt='%d')"
   ]
  },
  {
   "cell_type": "code",
   "execution_count": null,
   "metadata": {},
   "outputs": [],
   "source": [
    "grid_batch_bigger = grid_search(11,train_values,test_values,validation_values,dropout_layer, 148 )\n",
    "np.savetxt('grid_batch_bigger.csv', grid_batch_bigger, delimiter=',', fmt='%d')"
   ]
  },
  {
   "cell_type": "code",
   "execution_count": null,
   "metadata": {},
   "outputs": [],
   "source": [
    "grid_dropout = grid_search(24,train_values,test_values,validation_values,dropout_layer)\n",
    "np.savetxt('grid_dropout.csv', grid_dropout, delimiter=',', fmt='%d')"
   ]
  },
  {
   "cell_type": "code",
   "execution_count": null,
   "metadata": {},
   "outputs": [],
   "source": [
    "grid_dropout_batch = grid_search(24,train_values,test_values,validation_values,dropout_layer,74)\n",
    "np.savetxt('grid_dropout_batch.csv', grid_dropout_batch, delimiter=',', fmt='%d')"
   ]
  },
  {
   "cell_type": "code",
   "execution_count": null,
   "metadata": {},
   "outputs": [],
   "source": [
    "grid_multilayer = grid_search(12,train_values,test_values,validation_values,multi_layer,74)\n",
    "np.savetxt('grid_multilayer.csv', grid_dropout_batch, delimiter=',', fmt='%d')"
   ]
  },
  {
   "cell_type": "markdown",
   "metadata": {},
   "source": [
    "### F.5 Model Evaluation"
   ]
  },
  {
   "cell_type": "code",
   "execution_count": 14,
   "metadata": {},
   "outputs": [],
   "source": [
    "grid = np.loadtxt('grid.csv')"
   ]
  },
  {
   "cell_type": "code",
   "execution_count": 15,
   "metadata": {},
   "outputs": [
    {
     "name": "stdout",
     "output_type": "stream",
     "text": [
      "28.0\n"
     ]
    },
    {
     "data": {
      "image/png": "[encoded data removed]",
      "text/plain": [
       "<Figure size 432x288 with 1 Axes>"
      ]
     },
     "metadata": {
      "needs_background": "light"
     },
     "output_type": "display_data"
    }
   ],
   "source": [
    "x_range = np.linspace(1,24,23)\n",
    "plt.plot(x_range,grid)\n",
    "plt.xlabel('Steps')\n",
    "plt.ylabel('RMSE')\n",
    "print(np.min(grid))"
   ]
  },
  {
   "cell_type": "code",
   "execution_count": 16,
   "metadata": {},
   "outputs": [],
   "source": [
    "grid_batch = np.loadtxt('grid_batch.csv')"
   ]
  },
  {
   "cell_type": "code",
   "execution_count": 17,
   "metadata": {},
   "outputs": [
    {
     "name": "stdout",
     "output_type": "stream",
     "text": [
      "17.0\n"
     ]
    },
    {
     "data": {
      "image/png": "[encoded data removed]",
      "text/plain": [
       "<Figure size 432x288 with 1 Axes>"
      ]
     },
     "metadata": {
      "needs_background": "light"
     },
     "output_type": "display_data"
    }
   ],
   "source": [
    "x_range = np.linspace(1,24,23)\n",
    "plt.plot(x_range,grid_batch)\n",
    "plt.xlabel('Steps')\n",
    "plt.ylabel('RMSE')\n",
    "print(np.min(grid_batch))"
   ]
  },
  {
   "cell_type": "code",
   "execution_count": 18,
   "metadata": {},
   "outputs": [],
   "source": [
    "grid_dropout = np.loadtxt('grid_dropout.csv')"
   ]
  },
  {
   "cell_type": "code",
   "execution_count": 19,
   "metadata": {},
   "outputs": [
    {
     "data": {
      "text/plain": [
       "Text(0, 0.5, 'RMSE')"
      ]
     },
     "execution_count": 19,
     "metadata": {},
     "output_type": "execute_result"
    },
    {
     "data": {
      "image/png": "[encoded data removed]",
      "text/plain": [
       "<Figure size 432x288 with 1 Axes>"
      ]
     },
     "metadata": {
      "needs_background": "light"
     },
     "output_type": "display_data"
    }
   ],
   "source": [
    "x_range = np.linspace(1,24,23)\n",
    "plt.plot(x_range,grid_dropout)\n",
    "plt.xlabel('Steps')\n",
    "plt.ylabel('RMSE')\n"
   ]
  },
  {
   "cell_type": "code",
   "execution_count": 20,
   "metadata": {},
   "outputs": [],
   "source": [
    "grid_dropout_batch = np.loadtxt('grid_dropout_batch.csv')"
   ]
  },
  {
   "cell_type": "code",
   "execution_count": 21,
   "metadata": {},
   "outputs": [
    {
     "data": {
      "text/plain": [
       "Text(0, 0.5, 'RMSE')"
      ]
     },
     "execution_count": 21,
     "metadata": {},
     "output_type": "execute_result"
    },
    {
     "data": {
      "image/png": "[encoded data removed]",
      "text/plain": [
       "<Figure size 432x288 with 1 Axes>"
      ]
     },
     "metadata": {
      "needs_background": "light"
     },
     "output_type": "display_data"
    }
   ],
   "source": [
    "x_range = np.linspace(1,24,23)\n",
    "plt.plot(x_range,grid_dropout_batch)\n",
    "plt.xlabel('Steps')\n",
    "plt.ylabel('RMSE')\n"
   ]
  },
  {
   "cell_type": "code",
   "execution_count": 22,
   "metadata": {},
   "outputs": [],
   "source": [
    "grid_multilayer = np.loadtxt('grid_multilayer.csv')"
   ]
  },
  {
   "cell_type": "code",
   "execution_count": 23,
   "metadata": {},
   "outputs": [
    {
     "data": {
      "text/plain": [
       "Text(0, 0.5, 'RMSE')"
      ]
     },
     "execution_count": 23,
     "metadata": {},
     "output_type": "execute_result"
    },
    {
     "data": {
      "image/png": "[encoded data removed]",
      "text/plain": [
       "<Figure size 432x288 with 1 Axes>"
      ]
     },
     "metadata": {
      "needs_background": "light"
     },
     "output_type": "display_data"
    }
   ],
   "source": [
    "x_range = np.linspace(1,24,23)\n",
    "plt.plot(x_range,grid_dropout)\n",
    "plt.xlabel('Steps')\n",
    "plt.ylabel('RMSE')\n"
   ]
  },
  {
   "cell_type": "code",
   "execution_count": 24,
   "metadata": {},
   "outputs": [],
   "source": [
    "grid_batch_bigger = np.loadtxt('grid_batch_bigger.csv')"
   ]
  },
  {
   "cell_type": "code",
   "execution_count": 25,
   "metadata": {},
   "outputs": [
    {
     "data": {
      "text/plain": [
       "Text(0, 0.5, 'RMSE')"
      ]
     },
     "execution_count": 25,
     "metadata": {},
     "output_type": "execute_result"
    },
    {
     "data": {
      "image/png": "[encoded data removed]",
      "text/plain": [
       "<Figure size 432x288 with 1 Axes>"
      ]
     },
     "metadata": {
      "needs_background": "light"
     },
     "output_type": "display_data"
    }
   ],
   "source": [
    "\n",
    "x_range = np.linspace(1,11,10)\n",
    "plt.plot(x_range,grid_batch_bigger)\n",
    "plt.xlabel('Steps')\n",
    "plt.ylabel('RMSE')"
   ]
  },
  {
   "cell_type": "markdown",
   "metadata": {},
   "source": [
    "### F.6 Test Set Evaluation"
   ]
  },
  {
   "cell_type": "code",
   "execution_count": 38,
   "metadata": {},
   "outputs": [],
   "source": [
    "rmse_arr = np.zeros(50)\n",
    "for i in range(50):\n",
    "    final_fit,inv_yhat,inv_y  = model_spitter(train_values,test_values,validation_values,dropout_layer,cols = 7 )\n",
    "    rmse = np.sqrt(mean_squared_error(inv_y, inv_yhat))\n",
    "    rmse_arr[i] = rmse"
   ]
  },
  {
   "cell_type": "code",
   "execution_count": 39,
   "metadata": {},
   "outputs": [],
   "source": [
    "import seaborn as sns"
   ]
  },
  {
   "cell_type": "code",
   "execution_count": 44,
   "metadata": {},
   "outputs": [
    {
     "data": {
      "text/plain": [
       "Text(0.5, 0, 'RMSE')"
      ]
     },
     "execution_count": 44,
     "metadata": {},
     "output_type": "execute_result"
    },
    {
     "data": {
      "image/png": "[encoded data removed]",
      "text/plain": [
       "<Figure size 432x288 with 1 Axes>"
      ]
     },
     "metadata": {
      "needs_background": "light"
     },
     "output_type": "display_data"
    }
   ],
   "source": [
    "ax = sns.boxplot(rmse_arr)\n",
    "ax.set_title('Test Error Distribution')\n",
    "ax.set_xlabel('RMSE')"
   ]
  },
  {
   "cell_type": "code",
   "execution_count": 46,
   "metadata": {},
   "outputs": [
    {
     "data": {
      "text/plain": [
       "<matplotlib.legend.Legend at 0x168f13717c8>"
      ]
     },
     "execution_count": 46,
     "metadata": {},
     "output_type": "execute_result"
    },
    {
     "data": {
      "image/png": "[encoded data removed]",
      "text/plain": [
       "<Figure size 432x288 with 1 Axes>"
      ]
     },
     "metadata": {
      "needs_background": "light"
     },
     "output_type": "display_data"
    }
   ],
   "source": [
    "import matplotlib.ticker as plticker\n",
    "\n",
    "fig, ax = plt.subplots()\n",
    "\n",
    "\n",
    "\n",
    "loc = plticker.MultipleLocator(base=150) # this locator puts ticks at regular intervals\n",
    "ax.xaxis.set_major_locator(loc)\n",
    "ax.plot(test.date[-len(inv_y):],inv_y,label = 'Actual')\n",
    "ax.plot(test.date[-len(inv_y):],inv_yhat,label = 'predictions')\n",
    "ax.set_title(\"Test Set Evaluation\")\n",
    "plt.xticks(rotation=30)\n",
    "plt.legend()"
   ]
  }
 ],
 "metadata": {
  "kernelspec": {
   "display_name": "Python 3",
   "language": "python",
   "name": "python3"
  },
  "language_info": {
   "codemirror_mode": {
    "name": "ipython",
    "version": 3
   },
   "file_extension": ".py",
   "mimetype": "text/x-python",
   "name": "python",
   "nbconvert_exporter": "python",
   "pygments_lexer": "ipython3",
   "version": "3.7.4"
  }
 },
 "nbformat": 4,
 "nbformat_minor": 4
}
