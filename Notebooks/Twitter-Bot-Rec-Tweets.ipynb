{
 "cells": [
  {
   "cell_type": "markdown",
   "metadata": {},
   "source": [
    "# Appendix A"
   ]
  },
  {
   "cell_type": "markdown",
   "metadata": {},
   "source": [
    "### A.1 Importing Libraries"
   ]
  },
  {
   "cell_type": "code",
   "execution_count": 1,
   "metadata": {},
   "outputs": [],
   "source": [
    "import tweepy\n",
    "import pandas as pd\n",
    "from tweepy import Cursor\n",
    "import pytz\n",
    "import numpy as np"
   ]
  },
  {
   "cell_type": "markdown",
   "metadata": {},
   "source": [
    "### A.2 Tweepy set up"
   ]
  },
  {
   "cell_type": "code",
   "execution_count": 2,
   "metadata": {},
   "outputs": [],
   "source": [
    "#my keys should put them in another file and hide them before putting this on git\n",
    "API_key = \"7M1xKUhbvU4NITzZAoeeuSBZb\"\n",
    "API_secret_key = \"ksSxd57SkrL6kzg1PM5uZ0TDLvUz6u7078Im2KqL8bBKpxc168\"\n",
    "access_token = \"705069617295790080-2fmdiurkwA4MrclmfrcXbCZOPmwspEc\"\n",
    "access_token_secret = \"mAYVj092P1KLTyZUjuOm2cBWGgy1OAYQYrFZhOFmW2K5N\""
   ]
  },
  {
   "cell_type": "code",
   "execution_count": 3,
   "metadata": {},
   "outputs": [],
   "source": [
    "# Setting up the tweet extraction\n",
    "auth  = tweepy.OAuthHandler(API_key,API_secret_key)\n",
    "auth.set_access_token(access_token,access_token_secret)\n",
    "api = tweepy.API(auth)\n",
    "weightroom_id  = \"WesternWeightRm\""
   ]
  },
  {
   "cell_type": "code",
   "execution_count": 4,
   "metadata": {},
   "outputs": [],
   "source": [
    "#specifying weight room twitter id as user to be extracted\n",
    "rec_user  = api.get_user(weightroom_id)\n",
    "timeline = rec_user.timeline()"
   ]
  },
  {
   "cell_type": "markdown",
   "metadata": {},
   "source": [
    "### A.2 Tweet Retrival"
   ]
  },
  {
   "cell_type": "code",
   "execution_count": 5,
   "metadata": {},
   "outputs": [],
   "source": [
    "#Using tweepy interfact to fetch tweets \n",
    "#using build in interfact to format dates and tweets into python lists \n",
    "tweets = Cursor(api.user_timeline, id=weightroom_id).items()\n",
    "dates = []\n",
    "text = []\n",
    "for tweet in tweets:\n",
    "        dates.append(tweet.created_at)\n",
    "        text.append(tweet.text)"
   ]
  },
  {
   "cell_type": "code",
   "execution_count": 6,
   "metadata": {},
   "outputs": [],
   "source": [
    "#Function deEmojify \n",
    "#input \n",
    "#InputString \n",
    "def deEmojify(inputString):\n",
    "    return inputString.encode('ascii', 'ignore').decode('ascii')"
   ]
  },
  {
   "cell_type": "code",
   "execution_count": 7,
   "metadata": {},
   "outputs": [],
   "source": [
    "#Iterating through tweet and date list to make a pandas dataframe\n",
    "#Uses demojify  to remove emojis from tweets \n",
    "#Uses regular expresions to find only number values from tweets then storing them into numbers_wr and numbers_cm lists\n",
    "#creates final dataframe and makes a list of not used tweets \n",
    "import string\n",
    "import re\n",
    "data = pd.DataFrame({'date' : dates, 'tweets' : text})\n",
    "no_emoji= []\n",
    "numbers_wr = []\n",
    "numbers_cm = []\n",
    "u = []\n",
    "not_used = []\n",
    "for i in range(len(data.iloc[:,1]) ):\n",
    "    emoji_free  = deEmojify(data.iloc[i,1])\n",
    "    emoji_free = emoji_free.replace(\"&amp;\",\"\")\n",
    "    emoji_free = emoji_free.replace(\"\\n\" , \"\")\n",
    "    values  = re.findall(r'(\\w*\\d+)',emoji_free)\n",
    "  \n",
    "    if(len(values) == 2):\n",
    "        numbers_wr.append(values[0])\n",
    "        numbers_cm.append(values[1])\n",
    "\n",
    "    else:\n",
    "        not_used.append(data.iloc[i,1])\n",
    "    #if(nums == None ):\n",
    "     #   u.append(emoji_free)\n",
    "  \n",
    "        "
   ]
  },
  {
   "cell_type": "markdown",
   "metadata": {},
   "source": [
    "### A.3 Data Exportation"
   ]
  },
  {
   "cell_type": "code",
   "execution_count": 8,
   "metadata": {},
   "outputs": [],
   "source": [
    "#Dropping tweets to not use and making CM and WR value columns using values obtained before\n",
    "to_drop = data[data.tweets.isin( not_used)].index\n",
    "clean_data = data.drop(to_drop)\n",
    "clean_data['CM'] =  numbers_cm\n",
    "clean_data['WR'] =  numbers_wr"
   ]
  },
  {
   "cell_type": "code",
   "execution_count": 10,
   "metadata": {},
   "outputs": [
    {
     "data": {
      "text/html": [
       "<div>\n",
       "<style scoped>\n",
       "    .dataframe tbody tr th:only-of-type {\n",
       "        vertical-align: middle;\n",
       "    }\n",
       "\n",
       "    .dataframe tbody tr th {\n",
       "        vertical-align: top;\n",
       "    }\n",
       "\n",
       "    .dataframe thead th {\n",
       "        text-align: right;\n",
       "    }\n",
       "</style>\n",
       "<table border=\"1\" class=\"dataframe\">\n",
       "  <thead>\n",
       "    <tr style=\"text-align: right;\">\n",
       "      <th></th>\n",
       "      <th>date</th>\n",
       "      <th>tweets</th>\n",
       "      <th>CM</th>\n",
       "      <th>WR</th>\n",
       "    </tr>\n",
       "  </thead>\n",
       "  <tbody>\n",
       "    <tr>\n",
       "      <td>0</td>\n",
       "      <td>2020-03-15 20:37:58</td>\n",
       "      <td>WR 47 CM 12</td>\n",
       "      <td>12</td>\n",
       "      <td>47</td>\n",
       "    </tr>\n",
       "    <tr>\n",
       "      <td>1</td>\n",
       "      <td>2020-03-15 17:55:33</td>\n",
       "      <td>WR 52 CM 22 🎾</td>\n",
       "      <td>22</td>\n",
       "      <td>52</td>\n",
       "    </tr>\n",
       "    <tr>\n",
       "      <td>2</td>\n",
       "      <td>2020-03-15 16:34:29</td>\n",
       "      <td>WR 48 CM 24 😀</td>\n",
       "      <td>24</td>\n",
       "      <td>48</td>\n",
       "    </tr>\n",
       "    <tr>\n",
       "      <td>3</td>\n",
       "      <td>2020-03-15 15:55:35</td>\n",
       "      <td>WR 23 CM 13</td>\n",
       "      <td>13</td>\n",
       "      <td>23</td>\n",
       "    </tr>\n",
       "    <tr>\n",
       "      <td>4</td>\n",
       "      <td>2020-03-15 15:23:41</td>\n",
       "      <td>WR 19\\nCM 6 🏃🏾‍♀️😊👍🏼🌬😷</td>\n",
       "      <td>6</td>\n",
       "      <td>19</td>\n",
       "    </tr>\n",
       "  </tbody>\n",
       "</table>\n",
       "</div>"
      ],
      "text/plain": [
       "                 date                  tweets  CM  WR\n",
       "0 2020-03-15 20:37:58             WR 47 CM 12  12  47\n",
       "1 2020-03-15 17:55:33           WR 52 CM 22 🎾  22  52\n",
       "2 2020-03-15 16:34:29           WR 48 CM 24 😀  24  48\n",
       "3 2020-03-15 15:55:35             WR 23 CM 13  13  23\n",
       "4 2020-03-15 15:23:41  WR 19\\nCM 6 🏃🏾‍♀️😊👍🏼🌬😷   6  19"
      ]
     },
     "execution_count": 10,
     "metadata": {},
     "output_type": "execute_result"
    }
   ],
   "source": [
    "clean_data.head()"
   ]
  },
  {
   "cell_type": "code",
   "execution_count": 9,
   "metadata": {},
   "outputs": [],
   "source": [
    "clean_data.to_csv(\"clean_tweeets.csv\" )"
   ]
  }
 ],
 "metadata": {
  "kernelspec": {
   "display_name": "Python 3",
   "language": "python",
   "name": "python3"
  },
  "language_info": {
   "codemirror_mode": {
    "name": "ipython",
    "version": 3
   },
   "file_extension": ".py",
   "mimetype": "text/x-python",
   "name": "python",
   "nbconvert_exporter": "python",
   "pygments_lexer": "ipython3",
   "version": "3.7.4"
  }
 },
 "nbformat": 4,
 "nbformat_minor": 4
}
